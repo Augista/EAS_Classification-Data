{
  "nbformat": 4,
  "nbformat_minor": 0,
  "metadata": {
    "colab": {
      "provenance": [],
      "authorship_tag": "ABX9TyMmav5QxrtI5Em4ZswVZh3E",
      "include_colab_link": true
    },
    "kernelspec": {
      "name": "python3",
      "display_name": "Python 3"
    },
    "language_info": {
      "name": "python"
    }
  },
  "cells": [
    {
      "cell_type": "markdown",
      "metadata": {
        "id": "view-in-github",
        "colab_type": "text"
      },
      "source": [
        "<a href=\"https://colab.research.google.com/github/Augista/EAS_Classification-Data/blob/main/EASkomnumCLASSIFICATION.ipynb\" target=\"_parent\"><img src=\"https://colab.research.google.com/assets/colab-badge.svg\" alt=\"Open In Colab\"/></a>"
      ]
    },
    {
      "cell_type": "code",
      "source": [
        "import pandas as pd\n",
        "from sklearn.impute import KNNImputer\n",
        "from sklearn.preprocessing import MinMaxScaler\n",
        "from sklearn.model_selection import train_test_split\n",
        "from sklearn.ensemble import RandomForestClassifier\n",
        "from sklearn.metrics import accuracy_score, classification_report\n",
        "from sklearn.tree import DecisionTreeClassifier\n",
        "from imblearn.over_sampling import RandomOverSampler\n"
      ],
      "metadata": {
        "id": "-zbzukcWkYnH"
      },
      "execution_count": 180,
      "outputs": []
    },
    {
      "cell_type": "code",
      "source": [
        "data = 'EASKOMNUM.csv'\n",
        "\n",
        "df = pd.read_csv(data)\n",
        "print(df.head())\n",
        "# Memeriksa kolom yang ada dalam DataFrame\n",
        "print(\"Kolom dalam DataFrame:\", df.columns)\n"
      ],
      "metadata": {
        "colab": {
          "base_uri": "https://localhost:8080/"
        },
        "collapsed": true,
        "id": "b2FjKuZMlBRf",
        "outputId": "279ee782-d2cf-46be-c572-1376f05cf897"
      },
      "execution_count": 181,
      "outputs": [
        {
          "output_type": "stream",
          "name": "stdout",
          "text": [
            "   age  sex  cp  trestbps  chol  fbs  restecg  thalach  exang  oldpeak  slope  \\\n",
            "0   63    1   1       145   233    1        2      150      0      2.3      3   \n",
            "1   67    1   4       160   286    0        2      108      1      1.5      2   \n",
            "2   67    1   4       120   229    0        2      129      1      2.6      2   \n",
            "3   37    1   3       130   250    0        0      187      0      3.5      3   \n",
            "4   41    0   2       130   204    0        2      172      0      1.4      1   \n",
            "\n",
            "  ca thal  num  \n",
            "0  0    6    0  \n",
            "1  3    3    2  \n",
            "2  2    7    1  \n",
            "3  0    3    0  \n",
            "4  0    3    0  \n",
            "Kolom dalam DataFrame: Index(['age', 'sex', 'cp', 'trestbps', 'chol', 'fbs', 'restecg', 'thalach',\n",
            "       'exang', 'oldpeak', 'slope', 'ca', 'thal', 'num'],\n",
            "      dtype='object')\n"
          ]
        }
      ]
    },
    {
      "cell_type": "code",
      "source": [
        "# Mengonversi kolom yang memiliki nilai string menjadi numerik jika diperlukan\n",
        "for col in df.columns:\n",
        "    df[col] = pd.to_numeric(df[col], errors='coerce')\n",
        "\n",
        "print(\"Data setelah konversi nilai string menjadi numerik:\")\n",
        "print(df.head())"
      ],
      "metadata": {
        "colab": {
          "base_uri": "https://localhost:8080/"
        },
        "collapsed": true,
        "id": "vliI8OkRnhTM",
        "outputId": "aee01896-5653-482d-cfba-2f764e3ccb33"
      },
      "execution_count": 182,
      "outputs": [
        {
          "output_type": "stream",
          "name": "stdout",
          "text": [
            "Data setelah konversi nilai string menjadi numerik:\n",
            "   age  sex  cp  trestbps  chol  fbs  restecg  thalach  exang  oldpeak  slope  \\\n",
            "0   63    1   1       145   233    1        2      150      0      2.3      3   \n",
            "1   67    1   4       160   286    0        2      108      1      1.5      2   \n",
            "2   67    1   4       120   229    0        2      129      1      2.6      2   \n",
            "3   37    1   3       130   250    0        0      187      0      3.5      3   \n",
            "4   41    0   2       130   204    0        2      172      0      1.4      1   \n",
            "\n",
            "    ca  thal  num  \n",
            "0  0.0   6.0    0  \n",
            "1  3.0   3.0    2  \n",
            "2  2.0   7.0    1  \n",
            "3  0.0   3.0    0  \n",
            "4  0.0   3.0    0  \n"
          ]
        }
      ]
    },
    {
      "cell_type": "code",
      "source": [
        "# Mengisi nilai yang hilang dengan KNN Imputer\n",
        "imputer = KNNImputer(n_neighbors=5)\n",
        "df_imputed = pd.DataFrame(imputer.fit_transform(df), columns=df.columns)\n",
        "print(\"Data setelah imputasi nilai yang hilang:\")\n",
        "print(df_imputed.head())"
      ],
      "metadata": {
        "colab": {
          "base_uri": "https://localhost:8080/"
        },
        "collapsed": true,
        "id": "LYM6D_s3oTZB",
        "outputId": "248a60f6-b37c-42b4-c524-4154ce7d7364"
      },
      "execution_count": 183,
      "outputs": [
        {
          "output_type": "stream",
          "name": "stdout",
          "text": [
            "Data setelah imputasi nilai yang hilang:\n",
            "    age  sex   cp  trestbps   chol  fbs  restecg  thalach  exang  oldpeak  \\\n",
            "0  63.0  1.0  1.0     145.0  233.0  1.0      2.0    150.0    0.0      2.3   \n",
            "1  67.0  1.0  4.0     160.0  286.0  0.0      2.0    108.0    1.0      1.5   \n",
            "2  67.0  1.0  4.0     120.0  229.0  0.0      2.0    129.0    1.0      2.6   \n",
            "3  37.0  1.0  3.0     130.0  250.0  0.0      0.0    187.0    0.0      3.5   \n",
            "4  41.0  0.0  2.0     130.0  204.0  0.0      2.0    172.0    0.0      1.4   \n",
            "\n",
            "   slope   ca  thal  num  \n",
            "0    3.0  0.0   6.0  0.0  \n",
            "1    2.0  3.0   3.0  2.0  \n",
            "2    2.0  2.0   7.0  1.0  \n",
            "3    3.0  0.0   3.0  0.0  \n",
            "4    1.0  0.0   3.0  0.0  \n"
          ]
        }
      ]
    },
    {
      "cell_type": "code",
      "source": [
        "# Normalisasi data ke rentang 0-1\n",
        "scaler = MinMaxScaler()\n",
        "columns_to_normalize = df.columns.difference(['num'])\n",
        "df_normalized = pd.DataFrame(scaler.fit_transform(df_imputed), columns=df.columns)\n",
        "df_normalized['num'] = df['num']\n",
        "print(\"Data setelah normalisasi:\")\n",
        "print(df_normalized.head())"
      ],
      "metadata": {
        "colab": {
          "base_uri": "https://localhost:8080/"
        },
        "collapsed": true,
        "id": "z7l7bd4HoY03",
        "outputId": "7d7ce1a8-ae58-4522-e382-dfc4b5dcd889"
      },
      "execution_count": 197,
      "outputs": [
        {
          "output_type": "stream",
          "name": "stdout",
          "text": [
            "Data setelah normalisasi:\n",
            "        age  sex        cp  trestbps      chol  fbs  restecg   thalach  exang  \\\n",
            "0  0.708333  1.0  0.000000  0.481132  0.244292  1.0      1.0  0.603053    0.0   \n",
            "1  0.791667  1.0  1.000000  0.622642  0.365297  0.0      1.0  0.282443    1.0   \n",
            "2  0.791667  1.0  1.000000  0.245283  0.235160  0.0      1.0  0.442748    1.0   \n",
            "3  0.166667  1.0  0.666667  0.339623  0.283105  0.0      0.0  0.885496    0.0   \n",
            "4  0.250000  0.0  0.333333  0.339623  0.178082  0.0      1.0  0.770992    0.0   \n",
            "\n",
            "    oldpeak  slope        ca  thal  num  \n",
            "0  0.370968    1.0  0.000000  0.75    0  \n",
            "1  0.241935    0.5  1.000000  0.00    2  \n",
            "2  0.419355    0.5  0.666667  1.00    1  \n",
            "3  0.564516    1.0  0.000000  0.00    0  \n",
            "4  0.225806    0.0  0.000000  0.00    0  \n"
          ]
        }
      ]
    },
    {
      "cell_type": "code",
      "source": [
        "# fitur dan label kita pisahkan dulu (asumsi kolom terakhir adalah label)\n",
        "X = df_normalized.iloc[:, :-1]\n",
        "print(\"Fitur (X) setelah dipisahkan:\")\n",
        "print(X.head())\n",
        "y = df_normalized.iloc[:, -1]\n",
        "print(\"Label (y) setelah dipisahkan:\")\n",
        "print(y.head())"
      ],
      "metadata": {
        "colab": {
          "base_uri": "https://localhost:8080/"
        },
        "collapsed": true,
        "id": "tdXbJ6BLog-N",
        "outputId": "e0cdfc1c-6bb7-4bde-a8f6-65cc3f8dc4a5"
      },
      "execution_count": 198,
      "outputs": [
        {
          "output_type": "stream",
          "name": "stdout",
          "text": [
            "Fitur (X) setelah dipisahkan:\n",
            "        age  sex        cp  trestbps      chol  fbs  restecg   thalach  exang  \\\n",
            "0  0.708333  1.0  0.000000  0.481132  0.244292  1.0      1.0  0.603053    0.0   \n",
            "1  0.791667  1.0  1.000000  0.622642  0.365297  0.0      1.0  0.282443    1.0   \n",
            "2  0.791667  1.0  1.000000  0.245283  0.235160  0.0      1.0  0.442748    1.0   \n",
            "3  0.166667  1.0  0.666667  0.339623  0.283105  0.0      0.0  0.885496    0.0   \n",
            "4  0.250000  0.0  0.333333  0.339623  0.178082  0.0      1.0  0.770992    0.0   \n",
            "\n",
            "    oldpeak  slope        ca  thal  \n",
            "0  0.370968    1.0  0.000000  0.75  \n",
            "1  0.241935    0.5  1.000000  0.00  \n",
            "2  0.419355    0.5  0.666667  1.00  \n",
            "3  0.564516    1.0  0.000000  0.00  \n",
            "4  0.225806    0.0  0.000000  0.00  \n",
            "Label (y) setelah dipisahkan:\n",
            "0    0\n",
            "1    2\n",
            "2    1\n",
            "3    0\n",
            "4    0\n",
            "Name: num, dtype: int64\n"
          ]
        }
      ]
    },
    {
      "cell_type": "code",
      "source": [
        "# Konversi label menjadi tipe kategori\n",
        "y = y.astype('int')\n",
        "print(\"Label (y) setelah konversi ke tipe kategori:\")\n",
        "print(y.head())"
      ],
      "metadata": {
        "colab": {
          "base_uri": "https://localhost:8080/"
        },
        "id": "n6sCYN2dPG6q",
        "outputId": "3497e2e7-7a0a-4f7a-add9-baeb48cfa053"
      },
      "execution_count": 199,
      "outputs": [
        {
          "output_type": "stream",
          "name": "stdout",
          "text": [
            "Label (y) setelah konversi ke tipe kategori:\n",
            "0    0\n",
            "1    2\n",
            "2    1\n",
            "3    0\n",
            "4    0\n",
            "Name: num, dtype: int64\n"
          ]
        }
      ]
    },
    {
      "cell_type": "code",
      "source": [
        "# Memisahkan data menjadi set pelatihan dan pengujian\n",
        "X_train, X_test, y_train, y_test = train_test_split(X, y, test_size=0.2, random_state=100)\n",
        "print(\"Training set size:\", X_train.shape)\n",
        "print(\"Testing set size:\", X_test.shape)\n"
      ],
      "metadata": {
        "colab": {
          "base_uri": "https://localhost:8080/"
        },
        "id": "wdJLk8Bqo526",
        "outputId": "df37c59f-3887-4d92-b3a6-a164598e7932"
      },
      "execution_count": 200,
      "outputs": [
        {
          "output_type": "stream",
          "name": "stdout",
          "text": [
            "Training set size: (242, 13)\n",
            "Testing set size: (61, 13)\n"
          ]
        }
      ]
    },
    {
      "cell_type": "code",
      "source": [
        "# Train the Decision Tree Classifier\n",
        "clf = DecisionTreeClassifier(random_state=42)\n",
        "clf.fit(X_train, y_train)\n",
        "\n",
        "# Predict on the test set\n",
        "y_pred = clf.predict(X_test)\n",
        "y_true = y_test"
      ],
      "metadata": {
        "id": "k9n8372kOZix"
      },
      "execution_count": 201,
      "outputs": []
    },
    {
      "cell_type": "code",
      "source": [
        "# Evaluate the model\n",
        "accuracy = accuracy_score(y_test, y_pred) * 100\n",
        "report = (classification_report(y_true,y_pred, zero_division=1))\n",
        "\n",
        "print(\"Accuracy:\", accuracy)\n",
        "print(\"Classification Report:\")\n",
        "print(report)\n",
        "\n",
        "print(\"Predicted values:\")\n",
        "print(y_pred)\n",
        "print(\"True values:\")\n",
        "print(y_true)"
      ],
      "metadata": {
        "colab": {
          "base_uri": "https://localhost:8080/"
        },
        "id": "Y8POiSSoOoG7",
        "outputId": "8249877a-42c7-4358-ba5e-09f2acc4ae3d"
      },
      "execution_count": 202,
      "outputs": [
        {
          "output_type": "stream",
          "name": "stdout",
          "text": [
            "Accuracy: 55.73770491803278\n",
            "Classification Report:\n",
            "              precision    recall  f1-score   support\n",
            "\n",
            "           0       0.83      0.88      0.86        34\n",
            "           1       0.18      0.25      0.21         8\n",
            "           2       0.50      0.18      0.27        11\n",
            "           3       0.00      0.00      0.00         8\n",
            "           4       0.00      1.00      0.00         0\n",
            "\n",
            "    accuracy                           0.56        61\n",
            "   macro avg       0.30      0.46      0.27        61\n",
            "weighted avg       0.58      0.56      0.55        61\n",
            "\n",
            "Predicted values:\n",
            "[0 1 0 0 0 0 4 0 0 0 0 2 3 0 4 0 3 0 0 3 0 0 0 1 0 0 0 1 0 2 1 0 1 0 1 1 4\n",
            " 0 0 0 0 0 0 0 0 0 3 1 1 3 0 0 0 0 2 0 2 4 1 3 1]\n",
            "True values:\n",
            "69     1\n",
            "300    3\n",
            "220    0\n",
            "134    0\n",
            "7      0\n",
            "      ..\n",
            "1      2\n",
            "23     3\n",
            "56     1\n",
            "75     0\n",
            "252    0\n",
            "Name: num, Length: 61, dtype: int64\n"
          ]
        }
      ]
    },
    {
      "cell_type": "code",
      "source": [
        "print(\"Fitur pelatihan (X_train):\")\n",
        "print(X_train.head())\n",
        "print(\"Label pelatihan (y_train):\")\n",
        "print(y_train.head())\n",
        "print(\"Fitur pengujian (X_test):\")\n",
        "print(X_test.head())\n",
        "print(\"Label pengujian (y_test):\")\n",
        "print(y_test.head())"
      ],
      "metadata": {
        "colab": {
          "base_uri": "https://localhost:8080/"
        },
        "id": "r-1url42o9P_",
        "outputId": "9ad02598-c405-4fb7-a39a-016bf4f3acd6",
        "collapsed": true
      },
      "execution_count": 151,
      "outputs": [
        {
          "output_type": "stream",
          "name": "stdout",
          "text": [
            "Fitur pelatihan (X_train):\n",
            "          age  sex        cp  trestbps      chol  fbs  restecg   thalach  \\\n",
            "184  0.645833  0.0  1.000000  0.603774  0.408676  0.0      1.0  0.687023   \n",
            "19   0.416667  1.0  0.333333  0.339623  0.319635  0.0      0.0  0.763359   \n",
            "118  0.708333  1.0  1.000000  0.339623  0.465753  1.0      1.0  0.465649   \n",
            "41   0.229167  1.0  0.000000  0.433962  0.166667  0.0      0.0  0.816794   \n",
            "59   0.458333  1.0  0.000000  0.292453  0.198630  0.0      1.0  0.412214   \n",
            "\n",
            "     exang   oldpeak  slope        ca  thal  \n",
            "184    0.0  0.000000    0.0  0.000000   0.0  \n",
            "19     0.0  0.096774    0.0  0.000000   0.0  \n",
            "118    1.0  0.290323    0.0  1.000000   1.0  \n",
            "41     1.0  0.225806    0.0  0.000000   1.0  \n",
            "59     1.0  0.225806    0.0  0.333333   0.0  \n",
            "Label pelatihan (y_train):\n",
            "184    0\n",
            "19     0\n",
            "118    0\n",
            "41     0\n",
            "59     0\n",
            "Name: num, dtype: int64\n",
            "Fitur pengujian (X_test):\n",
            "          age  sex        cp  trestbps      chol  fbs  restecg   thalach  \\\n",
            "69   0.354167  1.0  0.666667  0.528302  0.239726  0.0      0.0  0.580153   \n",
            "300  0.583333  1.0  1.000000  0.339623  0.011416  0.0      0.0  0.335878   \n",
            "220  0.250000  0.0  0.666667  0.169811  0.324201  0.0      1.0  0.770992   \n",
            "134  0.291667  0.0  0.666667  0.264151  0.198630  0.0      0.0  0.717557   \n",
            "7    0.583333  0.0  1.000000  0.245283  0.520548  0.0      0.0  0.702290   \n",
            "\n",
            "     exang   oldpeak  slope        ca  thal  \n",
            "69     0.0  0.580645    0.5  0.000000   0.0  \n",
            "300    1.0  0.193548    0.5  0.333333   1.0  \n",
            "220    1.0  0.000000    0.0  0.000000   0.0  \n",
            "134    0.0  0.032258    0.5  0.000000   0.0  \n",
            "7      1.0  0.096774    0.0  0.000000   0.0  \n",
            "Label pengujian (y_test):\n",
            "69     0\n",
            "300    0\n",
            "220    0\n",
            "134    0\n",
            "7      0\n",
            "Name: num, dtype: int64\n"
          ]
        }
      ]
    }
  ]
}