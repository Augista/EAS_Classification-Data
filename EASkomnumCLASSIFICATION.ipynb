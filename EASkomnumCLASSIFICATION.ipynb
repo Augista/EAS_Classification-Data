{
  "nbformat": 4,
  "nbformat_minor": 0,
  "metadata": {
    "colab": {
      "provenance": [],
      "authorship_tag": "ABX9TyNCtlCj3nDDY6R+9+BbI4AO",
      "include_colab_link": true
    },
    "kernelspec": {
      "name": "python3",
      "display_name": "Python 3"
    },
    "language_info": {
      "name": "python"
    }
  },
  "cells": [
    {
      "cell_type": "markdown",
      "metadata": {
        "id": "view-in-github",
        "colab_type": "text"
      },
      "source": [
        "<a href=\"https://colab.research.google.com/github/Augista/EAS_Classification-Data/blob/main/EASkomnumCLASSIFICATION.ipynb\" target=\"_parent\"><img src=\"https://colab.research.google.com/assets/colab-badge.svg\" alt=\"Open In Colab\"/></a>"
      ]
    },
    {
      "cell_type": "code",
      "source": [
        "import pandas as pd\n",
        "from sklearn.impute import KNNImputer\n",
        "from sklearn.preprocessing import MinMaxScaler\n",
        "from sklearn.model_selection import train_test_split\n",
        "from sklearn.ensemble import RandomForestClassifier\n",
        "from sklearn.metrics import accuracy_score, classification_report\n"
      ],
      "metadata": {
        "id": "-zbzukcWkYnH"
      },
      "execution_count": 4,
      "outputs": []
    },
    {
      "cell_type": "code",
      "source": [
        "data = 'EASKOMNUM.csv'\n",
        "\n",
        "df = pd.read_csv(data, header=None)\n",
        "\n",
        "# Memeriksa kolom yang ada dalam DataFrame\n",
        "print(\"Kolom dalam DataFrame:\", df.columns)\n",
        "\n",
        "# Memeriksa tipe data setiap kolom\n",
        "print(\"Tipe data setiap kolom:\")\n",
        "print(df.dtypes)\n"
      ],
      "metadata": {
        "colab": {
          "base_uri": "https://localhost:8080/"
        },
        "collapsed": true,
        "id": "b2FjKuZMlBRf",
        "outputId": "955cf4c5-6bfa-4a4a-e430-82cc7da89706"
      },
      "execution_count": 18,
      "outputs": [
        {
          "output_type": "stream",
          "name": "stdout",
          "text": [
            "Kolom dalam DataFrame: Index([0, 1, 2, 3, 4, 5, 6, 7, 8, 9, 10, 11, 12, 13], dtype='int64')\n",
            "Tipe data setiap kolom:\n",
            "0     object\n",
            "1     object\n",
            "2     object\n",
            "3     object\n",
            "4     object\n",
            "5     object\n",
            "6     object\n",
            "7     object\n",
            "8     object\n",
            "9     object\n",
            "10    object\n",
            "11    object\n",
            "12    object\n",
            "13    object\n",
            "dtype: object\n"
          ]
        }
      ]
    },
    {
      "cell_type": "code",
      "source": [
        "# Mengonversi kolom yang memiliki nilai string menjadi numerik jika diperlukan\n",
        "for col in df.columns:\n",
        "    df[col] = pd.to_numeric(df[col], errors='coerce')\n",
        "\n",
        "print(\"Data setelah konversi nilai string menjadi numerik:\")\n",
        "print(df.head())"
      ],
      "metadata": {
        "colab": {
          "base_uri": "https://localhost:8080/"
        },
        "collapsed": true,
        "id": "vliI8OkRnhTM",
        "outputId": "c4f062ef-1c68-4c27-d4ba-60ab3771daa3"
      },
      "execution_count": 19,
      "outputs": [
        {
          "output_type": "stream",
          "name": "stdout",
          "text": [
            "Data setelah konversi nilai string menjadi numerik:\n",
            "     0    1    2      3      4    5    6      7    8    9    10   11   12   13\n",
            "0   NaN  NaN  NaN    NaN    NaN  NaN  NaN    NaN  NaN  NaN  NaN  NaN  NaN  NaN\n",
            "1  63.0  1.0  1.0  145.0  233.0  1.0  2.0  150.0  0.0  2.3  3.0  0.0  6.0  0.0\n",
            "2  67.0  1.0  4.0  160.0  286.0  0.0  2.0  108.0  1.0  1.5  2.0  3.0  3.0  2.0\n",
            "3  67.0  1.0  4.0  120.0  229.0  0.0  2.0  129.0  1.0  2.6  2.0  2.0  7.0  1.0\n",
            "4  37.0  1.0  3.0  130.0  250.0  0.0  0.0  187.0  0.0  3.5  3.0  0.0  3.0  0.0\n"
          ]
        }
      ]
    },
    {
      "cell_type": "code",
      "source": [
        "# Mengisi nilai yang hilang dengan KNN Imputer\n",
        "imputer = KNNImputer(n_neighbors=5)\n",
        "df_imputed = pd.DataFrame(imputer.fit_transform(df), columns=df.columns)\n",
        "print(\"Data setelah imputasi nilai yang hilang:\")\n",
        "print(df_imputed.head())"
      ],
      "metadata": {
        "colab": {
          "base_uri": "https://localhost:8080/"
        },
        "collapsed": true,
        "id": "LYM6D_s3oTZB",
        "outputId": "1737ba3c-cf4f-4e46-f05b-75ea69f2d35e"
      },
      "execution_count": 20,
      "outputs": [
        {
          "output_type": "stream",
          "name": "stdout",
          "text": [
            "Data setelah imputasi nilai yang hilang:\n",
            "          0         1         2           3           4         5         6   \\\n",
            "0  54.438944  0.679868  3.158416  131.689769  246.693069  0.148515  0.990099   \n",
            "1  63.000000  1.000000  1.000000  145.000000  233.000000  1.000000  2.000000   \n",
            "2  67.000000  1.000000  4.000000  160.000000  286.000000  0.000000  2.000000   \n",
            "3  67.000000  1.000000  4.000000  120.000000  229.000000  0.000000  2.000000   \n",
            "4  37.000000  1.000000  3.000000  130.000000  250.000000  0.000000  0.000000   \n",
            "\n",
            "           7         8         9        10        11        12        13  \n",
            "0  149.607261  0.326733  1.039604  1.60066  0.672241  4.734219  0.937294  \n",
            "1  150.000000  0.000000  2.300000  3.00000  0.000000  6.000000  0.000000  \n",
            "2  108.000000  1.000000  1.500000  2.00000  3.000000  3.000000  2.000000  \n",
            "3  129.000000  1.000000  2.600000  2.00000  2.000000  7.000000  1.000000  \n",
            "4  187.000000  0.000000  3.500000  3.00000  0.000000  3.000000  0.000000  \n"
          ]
        }
      ]
    },
    {
      "cell_type": "code",
      "source": [
        "# Normalisasi data ke rentang 0-1\n",
        "scaler = MinMaxScaler()\n",
        "df_normalized = pd.DataFrame(scaler.fit_transform(df_imputed), columns=df.columns)\n",
        "print(\"Data setelah normalisasi:\")\n",
        "print(df_normalized.head())"
      ],
      "metadata": {
        "colab": {
          "base_uri": "https://localhost:8080/"
        },
        "collapsed": true,
        "id": "z7l7bd4HoY03",
        "outputId": "92e2d537-6141-4dc7-a96b-681380427b4d"
      },
      "execution_count": 22,
      "outputs": [
        {
          "output_type": "stream",
          "name": "stdout",
          "text": [
            "Data setelah normalisasi:\n",
            "        age  sex        cp  trestbps      chol  fbs  restecg   thalach  exang  \\\n",
            "0  0.708333  1.0  0.000000  0.481132  0.244292  1.0      1.0  0.603053    0.0   \n",
            "1  0.791667  1.0  1.000000  0.622642  0.365297  0.0      1.0  0.282443    1.0   \n",
            "2  0.791667  1.0  1.000000  0.245283  0.235160  0.0      1.0  0.442748    1.0   \n",
            "3  0.166667  1.0  0.666667  0.339623  0.283105  0.0      0.0  0.885496    0.0   \n",
            "4  0.250000  0.0  0.333333  0.339623  0.178082  0.0      1.0  0.770992    0.0   \n",
            "\n",
            "    oldpeak  slope        ca  thal   num  \n",
            "0  0.370968    1.0  0.000000  0.75  0.00  \n",
            "1  0.241935    0.5  1.000000  0.00  0.50  \n",
            "2  0.419355    0.5  0.666667  1.00  0.25  \n",
            "3  0.564516    1.0  0.000000  0.00  0.00  \n",
            "4  0.225806    0.0  0.000000  0.00  0.00  \n"
          ]
        }
      ]
    },
    {
      "cell_type": "code",
      "source": [
        "# fitur dan label kita pisahkan dulu (asumsi kolom terakhir adalah label)\n",
        "X = df_normalized.iloc[:, :-1]\n",
        "y = df_normalized.iloc[:, -1]\n",
        "print(\"Fitur (X) setelah dipisahkan:\")\n",
        "print(X.head())\n",
        "print(\"Label (y) setelah dipisahkan:\")\n",
        "print(y.head())"
      ],
      "metadata": {
        "colab": {
          "base_uri": "https://localhost:8080/"
        },
        "collapsed": true,
        "id": "tdXbJ6BLog-N",
        "outputId": "9aca7a51-2b54-4cb7-8943-d270ec4b683b"
      },
      "execution_count": 23,
      "outputs": [
        {
          "output_type": "stream",
          "name": "stdout",
          "text": [
            "Fitur (X) setelah dipisahkan:\n",
            "        age  sex        cp  trestbps      chol  fbs  restecg   thalach  exang  \\\n",
            "0  0.708333  1.0  0.000000  0.481132  0.244292  1.0      1.0  0.603053    0.0   \n",
            "1  0.791667  1.0  1.000000  0.622642  0.365297  0.0      1.0  0.282443    1.0   \n",
            "2  0.791667  1.0  1.000000  0.245283  0.235160  0.0      1.0  0.442748    1.0   \n",
            "3  0.166667  1.0  0.666667  0.339623  0.283105  0.0      0.0  0.885496    0.0   \n",
            "4  0.250000  0.0  0.333333  0.339623  0.178082  0.0      1.0  0.770992    0.0   \n",
            "\n",
            "    oldpeak  slope        ca  thal  \n",
            "0  0.370968    1.0  0.000000  0.75  \n",
            "1  0.241935    0.5  1.000000  0.00  \n",
            "2  0.419355    0.5  0.666667  1.00  \n",
            "3  0.564516    1.0  0.000000  0.00  \n",
            "4  0.225806    0.0  0.000000  0.00  \n",
            "Label (y) setelah dipisahkan:\n",
            "0    0.00\n",
            "1    0.50\n",
            "2    0.25\n",
            "3    0.00\n",
            "4    0.00\n",
            "Name: num, dtype: float64\n"
          ]
        }
      ]
    },
    {
      "cell_type": "code",
      "source": [
        "# Konversi label menjadi tipe kategori\n",
        "y = y.astype('int')\n",
        "print(\"Label (y) setelah konversi ke tipe kategori:\")\n",
        "print(y.head())\n"
      ],
      "metadata": {
        "colab": {
          "base_uri": "https://localhost:8080/"
        },
        "collapsed": true,
        "id": "5Odfdvqoo0s6",
        "outputId": "91d2c0c5-2299-4278-adb5-ec827474ca57"
      },
      "execution_count": 24,
      "outputs": [
        {
          "output_type": "stream",
          "name": "stdout",
          "text": [
            "Label (y) setelah konversi ke tipe kategori:\n",
            "0    0\n",
            "1    0\n",
            "2    0\n",
            "3    0\n",
            "4    0\n",
            "Name: num, dtype: int64\n"
          ]
        }
      ]
    },
    {
      "cell_type": "code",
      "source": [
        "# Memisahkan data menjadi set pelatihan dan pengujian\n",
        "X_train, X_test, y_train, y_test = train_test_split(X, y, test_size=0.2, random_state=42)\n",
        "print(\"Training set size:\", X_train.shape)\n",
        "print(\"Testing set size:\", X_test.shape)\n"
      ],
      "metadata": {
        "colab": {
          "base_uri": "https://localhost:8080/"
        },
        "id": "wdJLk8Bqo526",
        "outputId": "0d84d762-e257-459e-fe76-52ed121fa938"
      },
      "execution_count": 25,
      "outputs": [
        {
          "output_type": "stream",
          "name": "stdout",
          "text": [
            "Training set size: (242, 13)\n",
            "Testing set size: (61, 13)\n"
          ]
        }
      ]
    },
    {
      "cell_type": "code",
      "source": [
        "print(\"Fitur pelatihan (X_train):\")\n",
        "print(X_train.head())\n",
        "print(\"Label pelatihan (y_train):\")\n",
        "print(y_train.head())\n",
        "print(\"Fitur pengujian (X_test):\")\n",
        "print(X_test.head())\n",
        "print(\"Label pengujian (y_test):\")\n",
        "print(y_test.head())"
      ],
      "metadata": {
        "colab": {
          "base_uri": "https://localhost:8080/"
        },
        "id": "r-1url42o9P_",
        "outputId": "b47e4e2a-b70b-4b17-9064-88ecea586b66"
      },
      "execution_count": 26,
      "outputs": [
        {
          "output_type": "stream",
          "name": "stdout",
          "text": [
            "Fitur pelatihan (X_train):\n",
            "          age  sex        cp  trestbps      chol  fbs  restecg   thalach  \\\n",
            "132  0.000000  1.0  0.333333  0.339623  0.178082  0.0      1.0  1.000000   \n",
            "202  0.583333  1.0  0.666667  0.528302  0.000000  1.0      0.0  0.778626   \n",
            "196  0.833333  1.0  0.000000  0.622642  0.246575  1.0      1.0  0.458015   \n",
            "75   0.750000  0.0  0.666667  0.622642  0.534247  0.0      1.0  0.610687   \n",
            "176  0.479167  1.0  1.000000  0.132075  0.244292  1.0      0.0  0.580153   \n",
            "\n",
            "     exang   oldpeak  slope        ca  thal  \n",
            "132    0.0  0.000000    0.0  0.000000   0.0  \n",
            "202    0.0  0.032258    0.0  0.333333   1.0  \n",
            "196    0.0  0.016129    0.5  0.333333   0.0  \n",
            "75     0.0  0.129032    0.0  0.000000   0.0  \n",
            "176    0.0  0.016129    0.0  1.000000   1.0  \n",
            "Label pelatihan (y_train):\n",
            "132    0\n",
            "202    0\n",
            "196    0\n",
            "75     0\n",
            "176    0\n",
            "Name: num, dtype: int64\n",
            "Fitur pengujian (X_test):\n",
            "          age  sex        cp  trestbps      chol  fbs  restecg   thalach  \\\n",
            "179  0.500000  1.0  0.666667  0.339623  0.273973  1.0      1.0  0.778626   \n",
            "228  0.520833  1.0  1.000000  0.150943  0.182648  0.0      1.0  0.282443   \n",
            "111  0.562500  1.0  1.000000  0.292453  0.280822  1.0      1.0  0.557252   \n",
            "246  0.604167  1.0  1.000000  0.056604  0.246575  0.0      0.0  0.648855   \n",
            "60   0.458333  0.0  1.000000  0.339623  0.408676  0.0      0.0  0.541985   \n",
            "\n",
            "     exang   oldpeak  slope        ca  thal  \n",
            "179    0.0  0.000000    0.0  1.000000   0.0  \n",
            "228    1.0  0.000000    0.5  0.333333   0.0  \n",
            "111    1.0  0.193548    0.5  0.333333   0.0  \n",
            "246    0.0  0.016129    0.0  0.333333   1.0  \n",
            "60     1.0  0.193548    0.5  0.000000   1.0  \n",
            "Label pengujian (y_test):\n",
            "179    0\n",
            "228    0\n",
            "111    0\n",
            "246    0\n",
            "60     0\n",
            "Name: num, dtype: int64\n"
          ]
        }
      ]
    }
  ]
}