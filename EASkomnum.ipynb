{
  "nbformat": 4,
  "nbformat_minor": 0,
  "metadata": {
    "colab": {
      "provenance": [],
      "authorship_tag": "ABX9TyPyFZvInfJVwuMmyxYWYyVf",
      "include_colab_link": true
    },
    "kernelspec": {
      "name": "python3",
      "display_name": "Python 3"
    },
    "language_info": {
      "name": "python"
    }
  },
  "cells": [
    {
      "cell_type": "markdown",
      "metadata": {
        "id": "view-in-github",
        "colab_type": "text"
      },
      "source": [
        "<a href=\"https://colab.research.google.com/github/Augista/EAS_Classification-Data/blob/main/EASkomnum.ipynb\" target=\"_parent\"><img src=\"https://colab.research.google.com/assets/colab-badge.svg\" alt=\"Open In Colab\"/></a>"
      ]
    },
    {
      "cell_type": "code",
      "source": [
        "import pandas as pd\n",
        "from sklearn.impute import KNNImputer\n",
        "from sklearn.preprocessing import MinMaxScaler\n",
        "from sklearn.model_selection import train_test_split\n",
        "from sklearn.metrics import accuracy_score, classification_report"
      ],
      "metadata": {
        "id": "-zbzukcWkYnH"
      },
      "execution_count": 3,
      "outputs": []
    },
    {
      "cell_type": "code",
      "source": [
        "data = 'EASKOMNUM.csv'\n",
        "\n",
        "df = pd.read_csv(data)\n",
        "print(df.head())\n",
        "# Memeriksa kolom yang ada dalam DataFrame\n",
        "print(\"Kolom dalam DataFrame:\", df.columns)\n"
      ],
      "metadata": {
        "colab": {
          "base_uri": "https://localhost:8080/"
        },
        "collapsed": true,
        "id": "b2FjKuZMlBRf",
        "outputId": "d96879d7-aea1-4cca-a058-fc7ac178f31b"
      },
      "execution_count": 4,
      "outputs": [
        {
          "output_type": "stream",
          "name": "stdout",
          "text": [
            "   age  sex  cp  trestbps  chol  fbs  restecg  thalach  exang  oldpeak  slope  \\\n",
            "0   63    1   1       145   233    1        2      150      0      2.3      3   \n",
            "1   67    1   4       160   286    0        2      108      1      1.5      2   \n",
            "2   67    1   4       120   229    0        2      129      1      2.6      2   \n",
            "3   37    1   3       130   250    0        0      187      0      3.5      3   \n",
            "4   41    0   2       130   204    0        2      172      0      1.4      1   \n",
            "\n",
            "  ca thal  num  \n",
            "0  0    6    0  \n",
            "1  3    3    2  \n",
            "2  2    7    1  \n",
            "3  0    3    0  \n",
            "4  0    3    0  \n",
            "Kolom dalam DataFrame: Index(['age', 'sex', 'cp', 'trestbps', 'chol', 'fbs', 'restecg', 'thalach',\n",
            "       'exang', 'oldpeak', 'slope', 'ca', 'thal', 'num'],\n",
            "      dtype='object')\n"
          ]
        }
      ]
    },
    {
      "cell_type": "code",
      "source": [
        "# Mengonversi kolom yang memiliki nilai string menjadi numerik jika diperlukan\n",
        "for col in df.columns:\n",
        "    df[col] = pd.to_numeric(df[col], errors='coerce')\n",
        "\n",
        "print(\"Data setelah konversi nilai string menjadi numerik:\")\n",
        "print(df.head())"
      ],
      "metadata": {
        "colab": {
          "base_uri": "https://localhost:8080/"
        },
        "collapsed": true,
        "id": "vliI8OkRnhTM",
        "outputId": "457b91cd-e8b0-4745-e268-60b09e85dd62"
      },
      "execution_count": 5,
      "outputs": [
        {
          "output_type": "stream",
          "name": "stdout",
          "text": [
            "Data setelah konversi nilai string menjadi numerik:\n",
            "   age  sex  cp  trestbps  chol  fbs  restecg  thalach  exang  oldpeak  slope  \\\n",
            "0   63    1   1       145   233    1        2      150      0      2.3      3   \n",
            "1   67    1   4       160   286    0        2      108      1      1.5      2   \n",
            "2   67    1   4       120   229    0        2      129      1      2.6      2   \n",
            "3   37    1   3       130   250    0        0      187      0      3.5      3   \n",
            "4   41    0   2       130   204    0        2      172      0      1.4      1   \n",
            "\n",
            "    ca  thal  num  \n",
            "0  0.0   6.0    0  \n",
            "1  3.0   3.0    2  \n",
            "2  2.0   7.0    1  \n",
            "3  0.0   3.0    0  \n",
            "4  0.0   3.0    0  \n"
          ]
        }
      ]
    },
    {
      "cell_type": "code",
      "source": [
        "# Mengisi nilai yang hilang dengan KNN Imputer\n",
        "imputer = KNNImputer(n_neighbors=5)\n",
        "df_imputed = pd.DataFrame(imputer.fit_transform(df), columns=df.columns)\n",
        "print(\"Data setelah imputasi nilai yang hilang:\")\n",
        "print(df_imputed.head())"
      ],
      "metadata": {
        "colab": {
          "base_uri": "https://localhost:8080/"
        },
        "collapsed": true,
        "id": "LYM6D_s3oTZB",
        "outputId": "0786a48c-d533-44e0-f0e8-e6aa14170317"
      },
      "execution_count": 6,
      "outputs": [
        {
          "output_type": "stream",
          "name": "stdout",
          "text": [
            "Data setelah imputasi nilai yang hilang:\n",
            "    age  sex   cp  trestbps   chol  fbs  restecg  thalach  exang  oldpeak  \\\n",
            "0  63.0  1.0  1.0     145.0  233.0  1.0      2.0    150.0    0.0      2.3   \n",
            "1  67.0  1.0  4.0     160.0  286.0  0.0      2.0    108.0    1.0      1.5   \n",
            "2  67.0  1.0  4.0     120.0  229.0  0.0      2.0    129.0    1.0      2.6   \n",
            "3  37.0  1.0  3.0     130.0  250.0  0.0      0.0    187.0    0.0      3.5   \n",
            "4  41.0  0.0  2.0     130.0  204.0  0.0      2.0    172.0    0.0      1.4   \n",
            "\n",
            "   slope   ca  thal  num  \n",
            "0    3.0  0.0   6.0  0.0  \n",
            "1    2.0  3.0   3.0  2.0  \n",
            "2    2.0  2.0   7.0  1.0  \n",
            "3    3.0  0.0   3.0  0.0  \n",
            "4    1.0  0.0   3.0  0.0  \n"
          ]
        }
      ]
    },
    {
      "cell_type": "code",
      "source": [
        "# Normalisasi data ke rentang 0-1\n",
        "scaler = MinMaxScaler()\n",
        "columns_to_normalize = df.columns.difference(['num'])\n",
        "df_normalized = pd.DataFrame(scaler.fit_transform(df_imputed), columns=df.columns)\n",
        "df_normalized['num'] = df['num']\n",
        "print(\"Data setelah normalisasi:\")\n",
        "print(df_normalized.head())"
      ],
      "metadata": {
        "colab": {
          "base_uri": "https://localhost:8080/"
        },
        "collapsed": true,
        "id": "z7l7bd4HoY03",
        "outputId": "450c87aa-2b47-45f8-843a-e8d4b0098511"
      },
      "execution_count": 7,
      "outputs": [
        {
          "output_type": "stream",
          "name": "stdout",
          "text": [
            "Data setelah normalisasi:\n",
            "        age  sex        cp  trestbps      chol  fbs  restecg   thalach  exang  \\\n",
            "0  0.708333  1.0  0.000000  0.481132  0.244292  1.0      1.0  0.603053    0.0   \n",
            "1  0.791667  1.0  1.000000  0.622642  0.365297  0.0      1.0  0.282443    1.0   \n",
            "2  0.791667  1.0  1.000000  0.245283  0.235160  0.0      1.0  0.442748    1.0   \n",
            "3  0.166667  1.0  0.666667  0.339623  0.283105  0.0      0.0  0.885496    0.0   \n",
            "4  0.250000  0.0  0.333333  0.339623  0.178082  0.0      1.0  0.770992    0.0   \n",
            "\n",
            "    oldpeak  slope        ca  thal  num  \n",
            "0  0.370968    1.0  0.000000  0.75    0  \n",
            "1  0.241935    0.5  1.000000  0.00    2  \n",
            "2  0.419355    0.5  0.666667  1.00    1  \n",
            "3  0.564516    1.0  0.000000  0.00    0  \n",
            "4  0.225806    0.0  0.000000  0.00    0  \n"
          ]
        }
      ]
    },
    {
      "cell_type": "code",
      "source": [
        "# fitur dan label kita pisahkan dulu (asumsi kolom terakhir adalah label)\n",
        "X = df_normalized.iloc[:, :-1]\n",
        "print(\"Fitur (X) setelah dipisahkan:\")\n",
        "print(X.head())\n",
        "y = df_normalized.iloc[:, -1]\n",
        "print(\"Label (y) setelah dipisahkan:\")\n",
        "print(y.head())"
      ],
      "metadata": {
        "colab": {
          "base_uri": "https://localhost:8080/"
        },
        "collapsed": true,
        "id": "tdXbJ6BLog-N",
        "outputId": "b07f4594-968b-456c-93c4-a521dc79cb80"
      },
      "execution_count": 8,
      "outputs": [
        {
          "output_type": "stream",
          "name": "stdout",
          "text": [
            "Fitur (X) setelah dipisahkan:\n",
            "        age  sex        cp  trestbps      chol  fbs  restecg   thalach  exang  \\\n",
            "0  0.708333  1.0  0.000000  0.481132  0.244292  1.0      1.0  0.603053    0.0   \n",
            "1  0.791667  1.0  1.000000  0.622642  0.365297  0.0      1.0  0.282443    1.0   \n",
            "2  0.791667  1.0  1.000000  0.245283  0.235160  0.0      1.0  0.442748    1.0   \n",
            "3  0.166667  1.0  0.666667  0.339623  0.283105  0.0      0.0  0.885496    0.0   \n",
            "4  0.250000  0.0  0.333333  0.339623  0.178082  0.0      1.0  0.770992    0.0   \n",
            "\n",
            "    oldpeak  slope        ca  thal  \n",
            "0  0.370968    1.0  0.000000  0.75  \n",
            "1  0.241935    0.5  1.000000  0.00  \n",
            "2  0.419355    0.5  0.666667  1.00  \n",
            "3  0.564516    1.0  0.000000  0.00  \n",
            "4  0.225806    0.0  0.000000  0.00  \n",
            "Label (y) setelah dipisahkan:\n",
            "0    0\n",
            "1    2\n",
            "2    1\n",
            "3    0\n",
            "4    0\n",
            "Name: num, dtype: int64\n"
          ]
        }
      ]
    },
    {
      "cell_type": "code",
      "source": [
        "# Konversi label menjadi tipe kategori\n",
        "y = y.astype('int')\n",
        "print(\"Label (y) setelah konversi ke tipe kategori:\")\n",
        "print(y.head())"
      ],
      "metadata": {
        "colab": {
          "base_uri": "https://localhost:8080/"
        },
        "id": "n6sCYN2dPG6q",
        "outputId": "d2aca56b-0722-493d-86de-1eccee8a86a2"
      },
      "execution_count": 9,
      "outputs": [
        {
          "output_type": "stream",
          "name": "stdout",
          "text": [
            "Label (y) setelah konversi ke tipe kategori:\n",
            "0    0\n",
            "1    2\n",
            "2    1\n",
            "3    0\n",
            "4    0\n",
            "Name: num, dtype: int64\n"
          ]
        }
      ]
    },
    {
      "cell_type": "code",
      "source": [
        "# Memisahkan data menjadi set pelatihan dan pengujian\n",
        "X_train, X_test, y_train, y_test = train_test_split(X, y, test_size=0.2, random_state=100)\n",
        "print(\"Training set size:\", X_train.shape)\n",
        "print(\"Testing set size:\", X_test.shape)\n"
      ],
      "metadata": {
        "colab": {
          "base_uri": "https://localhost:8080/"
        },
        "id": "wdJLk8Bqo526",
        "outputId": "47cffc2a-7aa4-46de-9b99-9f9d0d861de2"
      },
      "execution_count": 10,
      "outputs": [
        {
          "output_type": "stream",
          "name": "stdout",
          "text": [
            "Training set size: (242, 13)\n",
            "Testing set size: (61, 13)\n"
          ]
        }
      ]
    },
    {
      "cell_type": "code",
      "source": [
        "import xgboost as xgb\n",
        "from xgboost import XGBClassifier\n",
        "from sklearn.model_selection import RandomizedSearchCV, cross_val_score\n",
        "from sklearn.metrics import accuracy_score, confusion_matrix, classification_report, precision_score, recall_score, f1_score, roc_auc_score\n",
        "from imblearn.over_sampling import SMOTE\n",
        "from sklearn.preprocessing import label_binarize\n",
        "import matplotlib.pyplot as plt\n",
        "from xgboost import plot_importance\n",
        "from sklearn.ensemble import RandomForestClassifier\n",
        "from sklearn.svm import SVC\n",
        "from sklearn.linear_model import LogisticRegression\n",
        "import numpy as np\n",
        "\n",
        "# Check data\n",
        "print(\"Training labels distribution:\")\n",
        "print(y_train.value_counts())\n",
        "print(\"Test labels distribution:\")\n",
        "print(y_test.value_counts())\n",
        "\n",
        "# Feature importance analysis for XGBoost\n",
        "param_dist = {\n",
        "    'n_estimators': [50, 100, 200, 300],\n",
        "    'max_depth': [3, 5, 7, 9],\n",
        "    'learning_rate': [0.01, 0.05, 0.1, 0.2],\n",
        "    'subsample': [0.6, 0.8, 1.0],\n",
        "    'colsample_bytree': [0.6, 0.8, 1.0]\n",
        "}\n",
        "\n",
        "random_search = RandomizedSearchCV(XGBClassifier(random_state=42), param_distributions=param_dist,\n",
        "                                   n_iter=50, scoring='accuracy', cv=3, verbose=1, n_jobs=-1)\n",
        "random_search.fit(X_train, y_train)\n",
        "\n",
        "print(f\"Best parameters found: {random_search.best_params_}\")\n",
        "best_model = random_search.best_estimator_\n",
        "\n",
        "# Cross-validation\n",
        "scores = cross_val_score(best_model, X_train, y_train, cv=5, scoring='accuracy')\n",
        "print(f\"Cross-validation accuracy scores: {scores}\")\n",
        "print(f\"Mean cross-validation accuracy: {scores.mean():.2f}\")\n",
        "\n",
        "# Handle class imbalance\n",
        "smote = SMOTE(random_state=42)\n",
        "X_train_res, y_train_res = smote.fit_resample(X_train, y_train)\n",
        "\n",
        "# Fit the best model on the resampled training data\n",
        "best_model.fit(X_train_res, y_train_res)\n",
        "\n",
        "# Predict on the test set\n",
        "y_pred = best_model.predict(X_test)\n",
        "y_true = y_test\n",
        "\n",
        "# Evaluate the model\n",
        "accuracy = accuracy_score(y_true, y_pred)\n",
        "precision = precision_score(y_true, y_pred, average='weighted')\n",
        "recall = recall_score(y_true, y_pred, average='weighted')\n",
        "f1 = f1_score(y_true, y_pred, average='weighted')\n",
        "\n",
        "# Binarize the output labels for multi-class ROC AUC score\n",
        "y_true_bin = label_binarize(y_true, classes=best_model.classes_)\n",
        "y_score = best_model.predict_proba(X_test)\n",
        "\n",
        "print(f\"Accuracy: {accuracy:.2f}\")\n",
        "print(f\"Precision: {precision:.2f}\")\n",
        "print(f\"Recall: {recall:.2f}\")\n",
        "print(f\"F1-Score: {f1:.2f}\")\n",
        "\n",
        "conf_matrix = confusion_matrix(y_true, y_pred)\n",
        "print(\"Confusion Matrix:\")\n",
        "print(conf_matrix)\n",
        "\n",
        "class_report = classification_report(y_true, y_pred,zero_division=1)\n",
        "print(\"Classification Report:\")\n",
        "print(class_report)\n",
        "\n",
        "# Plot feature importance\n",
        "plot_importance(best_model)\n",
        "plt.show()\n",
        "\n",
        "# Model comparison\n",
        "models = {\n",
        "    'Random Forest': RandomForestClassifier(random_state=42),\n",
        "    'SVM': SVC(probability=True, random_state=42),\n",
        "    'Logistic Regression': LogisticRegression(random_state=42),\n",
        "    'XGBoost': best_model\n",
        "}\n",
        "\n",
        "for name, model in models.items():\n",
        "    model.fit(X_train, y_train)\n",
        "    y_pred = model.predict(X_test)\n",
        "    accuracy = accuracy_score(y_test, y_pred)\n",
        "    print(f\"{name} Accuracy: {accuracy:.2f}\")"
      ],
      "metadata": {
        "colab": {
          "base_uri": "https://localhost:8080/",
          "height": 1000
        },
        "id": "uUrm6SOS_v-X",
        "outputId": "41cb18d6-98ea-4292-c109-8e058515af8e"
      },
      "execution_count": 30,
      "outputs": [
        {
          "output_type": "stream",
          "name": "stdout",
          "text": [
            "Training labels distribution:\n",
            "num\n",
            "0    130\n",
            "1     47\n",
            "3     27\n",
            "2     25\n",
            "4     13\n",
            "Name: count, dtype: int64\n",
            "Test labels distribution:\n",
            "num\n",
            "0    34\n",
            "2    11\n",
            "1     8\n",
            "3     8\n",
            "Name: count, dtype: int64\n",
            "Fitting 3 folds for each of 50 candidates, totalling 150 fits\n",
            "Best parameters found: {'subsample': 1.0, 'n_estimators': 50, 'max_depth': 9, 'learning_rate': 0.01, 'colsample_bytree': 0.6}\n",
            "Cross-validation accuracy scores: [0.55102041 0.55102041 0.5625     0.60416667 0.60416667]\n",
            "Mean cross-validation accuracy: 0.57\n"
          ]
        },
        {
          "output_type": "stream",
          "name": "stderr",
          "text": [
            "/usr/local/lib/python3.10/dist-packages/sklearn/metrics/_classification.py:1344: UndefinedMetricWarning: Recall is ill-defined and being set to 0.0 in labels with no true samples. Use `zero_division` parameter to control this behavior.\n",
            "  _warn_prf(average, modifier, msg_start, len(result))\n"
          ]
        },
        {
          "output_type": "stream",
          "name": "stdout",
          "text": [
            "Accuracy: 0.64\n",
            "Precision: 0.65\n",
            "Recall: 0.64\n",
            "F1-Score: 0.62\n",
            "Confusion Matrix:\n",
            "[[32  1  1  0  0]\n",
            " [ 5  0  0  3  0]\n",
            " [ 2  0  3  3  3]\n",
            " [ 0  2  0  4  2]\n",
            " [ 0  0  0  0  0]]\n",
            "Classification Report:\n",
            "              precision    recall  f1-score   support\n",
            "\n",
            "           0       0.82      0.94      0.88        34\n",
            "           1       0.00      0.00      0.00         8\n",
            "           2       0.75      0.27      0.40        11\n",
            "           3       0.40      0.50      0.44         8\n",
            "           4       0.00      1.00      0.00         0\n",
            "\n",
            "    accuracy                           0.64        61\n",
            "   macro avg       0.39      0.54      0.34        61\n",
            "weighted avg       0.65      0.64      0.62        61\n",
            "\n"
          ]
        },
        {
          "output_type": "display_data",
          "data": {
            "text/plain": [
              "<Figure size 640x480 with 1 Axes>"
            ],
            "image/png": "[encoded data removed]"
          },
          "metadata": {}
        },
        {
          "output_type": "stream",
          "name": "stdout",
          "text": [
            "Random Forest Accuracy: 0.59\n",
            "SVM Accuracy: 0.59\n",
            "Logistic Regression Accuracy: 0.67\n",
            "XGBoost Accuracy: 0.62\n"
          ]
        }
      ]
    },
    {
      "cell_type": "code",
      "source": [
        "import xgboost as xgb\n",
        "from xgboost import XGBClassifier\n",
        "from sklearn.model_selection import GridSearchCV, cross_val_score\n",
        "from sklearn.metrics import accuracy_score, confusion_matrix, classification_report, precision_score, recall_score, f1_score, roc_auc_score\n",
        "from imblearn.over_sampling import SMOTE\n",
        "from sklearn.preprocessing import label_binarize\n",
        "\n",
        "# Check data\n",
        "print(\"Training labels distribution:\")\n",
        "print(y_train.value_counts())\n",
        "print(\"Test labels distribution:\")\n",
        "print(y_test.value_counts())\n",
        "\n",
        "# Hyperparameter tuning\n",
        "param_grid = {\n",
        "    'n_estimators': [100, 200, 300],\n",
        "    'max_depth': [3, 5, 7],\n",
        "    'learning_rate': [0.01, 0.1, 0.2],\n",
        "    'subsample': [0.8, 1.0],\n",
        "    'colsample_bytree': [0.8, 1.0]\n",
        "}\n",
        "\n",
        "grid_search = GridSearchCV(estimator=XGBClassifier(random_state=42), param_grid=param_grid,\n",
        "                           scoring='accuracy', cv=3, verbose=1, n_jobs=-1)\n",
        "grid_search.fit(X_train, y_train)\n",
        "\n",
        "print(f\"Best parameters found: {grid_search.best_params_}\")\n",
        "best_model = grid_search.best_estimator_\n",
        "\n",
        "# Cross-validation\n",
        "scores = cross_val_score(best_model, X_train, y_train, cv=5, scoring='accuracy')\n",
        "print(f\"Cross-validation accuracy scores: {scores}\")\n",
        "print(f\"Mean cross-validation accuracy: {scores.mean():.2f}\")\n",
        "\n",
        "# Handle class imbalance\n",
        "smote = SMOTE(random_state=42)\n",
        "X_train_res, y_train_res = smote.fit_resample(X_train, y_train)\n",
        "\n",
        "# Fit the best model on the resampled training data\n",
        "best_model.fit(X_train_res, y_train_res)\n",
        "\n",
        "# Predict on the test set\n",
        "y_pred = best_model.predict(X_test)\n",
        "y_true = y_test\n",
        "\n",
        "# Evaluate the model\n",
        "accuracy = accuracy_score(y_true, y_pred)\n",
        "precision = precision_score(y_true, y_pred, average='weighted')\n",
        "recall = recall_score(y_true, y_pred, average='weighted')\n",
        "f1 = f1_score(y_true, y_pred, average='weighted')\n",
        "\n",
        "print(f\"Accuracy: {accuracy:.2f}\")\n",
        "print(f\"Precision: {precision:.2f}\")\n",
        "print(f\"Recall: {recall:.2f}\")\n",
        "print(f\"F1-Score: {f1:.2f}\")\n",
        "\n",
        "class_report = classification_report(y_true, y_pred,zero_division=1)\n",
        "print(\"Classification Report:\")\n",
        "print(class_report)\n"
      ],
      "metadata": {
        "colab": {
          "base_uri": "https://localhost:8080/"
        },
        "collapsed": true,
        "id": "uFZHKzVj9IIv",
        "outputId": "150450eb-1508-4a99-eedc-e8e0b8b8f7d6"
      },
      "execution_count": 25,
      "outputs": [
        {
          "output_type": "stream",
          "name": "stdout",
          "text": [
            "Training labels distribution:\n",
            "num\n",
            "0    130\n",
            "1     47\n",
            "3     27\n",
            "2     25\n",
            "4     13\n",
            "Name: count, dtype: int64\n",
            "Test labels distribution:\n",
            "num\n",
            "0    34\n",
            "2    11\n",
            "1     8\n",
            "3     8\n",
            "Name: count, dtype: int64\n",
            "Fitting 3 folds for each of 108 candidates, totalling 324 fits\n",
            "Best parameters found: {'colsample_bytree': 1.0, 'learning_rate': 0.2, 'max_depth': 3, 'n_estimators': 200, 'subsample': 0.8}\n",
            "Cross-validation accuracy scores: [0.57142857 0.57142857 0.45833333 0.58333333 0.54166667]\n",
            "Mean cross-validation accuracy: 0.55\n",
            "Accuracy: 0.57\n",
            "Precision: 0.54\n",
            "Recall: 0.57\n",
            "F1-Score: 0.55\n",
            "Classification Report:\n",
            "              precision    recall  f1-score   support\n",
            "\n",
            "           0       0.84      0.94      0.89        34\n",
            "           1       0.00      0.00      0.00         8\n",
            "           2       0.29      0.18      0.22        11\n",
            "           3       0.14      0.12      0.13         8\n",
            "           4       0.00      1.00      0.00         0\n",
            "\n",
            "    accuracy                           0.57        61\n",
            "   macro avg       0.25      0.45      0.25        61\n",
            "weighted avg       0.54      0.57      0.55        61\n",
            "\n"
          ]
        },
        {
          "output_type": "stream",
          "name": "stderr",
          "text": [
            "/usr/local/lib/python3.10/dist-packages/sklearn/metrics/_classification.py:1344: UndefinedMetricWarning: Recall is ill-defined and being set to 0.0 in labels with no true samples. Use `zero_division` parameter to control this behavior.\n",
            "  _warn_prf(average, modifier, msg_start, len(result))\n"
          ]
        }
      ]
    },
    {
      "cell_type": "code",
      "source": [
        "import xgboost as xgb\n",
        "from xgboost import XGBClassifier\n",
        "from sklearn.model_selection import GridSearchCV, cross_val_score\n",
        "from sklearn.metrics import accuracy_score, confusion_matrix, classification_report\n",
        "\n",
        "# Hyperparameter tuning\n",
        "param_grid = {\n",
        "    'n_estimators': [100, 200, 300],\n",
        "    'max_depth': [3, 5, 7],\n",
        "    'learning_rate': [0.01, 0.1, 0.2],\n",
        "    'subsample': [0.8, 1.0],\n",
        "    'colsample_bytree': [0.8, 1.0]\n",
        "}\n",
        "\n",
        "grid_search = GridSearchCV(estimator=XGBClassifier(random_state=42), param_grid=param_grid,\n",
        "                           scoring='accuracy', cv=3, verbose=1, n_jobs=-1)\n",
        "grid_search.fit(X_train, y_train)\n",
        "\n",
        "print(f\"Best parameters found: {grid_search.best_params_}\")\n",
        "best_model = grid_search.best_estimator_\n",
        "\n",
        "# Cross-validation\n",
        "scores = cross_val_score(best_model, X_train, y_train, cv=5, scoring='accuracy')\n",
        "print(f\"Cross-validation accuracy scores: {scores}\")\n",
        "print(f\"Mean cross-validation accuracy: {scores.mean():.2f}\")\n",
        "\n",
        "# Fit the best model on the training data\n",
        "best_model.fit(X_train, y_train)\n",
        "\n",
        "# Predict on the test set\n",
        "y_pred = best_model.predict(X_test)\n",
        "y_true = y_test\n",
        "\n",
        "# Evaluate the model\n",
        "accuracy = accuracy_score(y_true, y_pred)\n",
        "print(f\"Accuracy: {accuracy:.2f}\")\n",
        "\n",
        "class_report = classification_report(y_true, y_pred,zero_division=1)\n",
        "print(\"Classification Report:\")\n",
        "print(class_report)\n"
      ],
      "metadata": {
        "id": "k9n8372kOZix",
        "colab": {
          "base_uri": "https://localhost:8080/"
        },
        "collapsed": true,
        "outputId": "55d3b2a8-ae5d-44eb-c3f2-d8288a0fa7f9"
      },
      "execution_count": 17,
      "outputs": [
        {
          "output_type": "stream",
          "name": "stdout",
          "text": [
            "Fitting 3 folds for each of 108 candidates, totalling 324 fits\n",
            "Best parameters found: {'colsample_bytree': 1.0, 'learning_rate': 0.2, 'max_depth': 3, 'n_estimators': 200, 'subsample': 0.8}\n",
            "Cross-validation accuracy scores: [0.57142857 0.57142857 0.45833333 0.58333333 0.54166667]\n",
            "Mean cross-validation accuracy: 0.55\n",
            "Accuracy: 0.56\n",
            "Classification Report:\n",
            "              precision    recall  f1-score   support\n",
            "\n",
            "           0       0.78      0.91      0.84        34\n",
            "           1       0.00      0.00      0.00         8\n",
            "           2       0.50      0.18      0.27        11\n",
            "           3       0.11      0.12      0.12         8\n",
            "           4       0.00      1.00      0.00         0\n",
            "\n",
            "    accuracy                           0.56        61\n",
            "   macro avg       0.28      0.44      0.24        61\n",
            "weighted avg       0.54      0.56      0.53        61\n",
            "\n"
          ]
        }
      ]
    },
    {
      "cell_type": "code",
      "source": [
        "# Evaluate the model\n",
        "accuracy = accuracy_score(y_test, y_pred) * 100\n",
        "report = (classification_report(y_true,y_pred, zero_division=1))\n",
        "\n",
        "print(\"Accuracy:\", accuracy)\n",
        "print(\"Classification Report:\")\n",
        "print(report)\n",
        "\n",
        "print(\"Predicted values:\")\n",
        "print(y_pred)\n",
        "print(\"True values:\")\n",
        "print(y_true)"
      ],
      "metadata": {
        "colab": {
          "base_uri": "https://localhost:8080/"
        },
        "id": "Y8POiSSoOoG7",
        "outputId": "add81c13-65fd-4395-9355-a9dce4ab02eb",
        "collapsed": true
      },
      "execution_count": 31,
      "outputs": [
        {
          "output_type": "stream",
          "name": "stdout",
          "text": [
            "Accuracy: 62.295081967213115\n",
            "Classification Report:\n",
            "              precision    recall  f1-score   support\n",
            "\n",
            "           0       0.73      0.97      0.84        34\n",
            "           1       0.25      0.25      0.25         8\n",
            "           2       0.33      0.09      0.14        11\n",
            "           3       0.50      0.25      0.33         8\n",
            "           4       0.00      1.00      0.00         0\n",
            "\n",
            "    accuracy                           0.62        61\n",
            "   macro avg       0.36      0.51      0.31        61\n",
            "weighted avg       0.57      0.62      0.57        61\n",
            "\n",
            "Predicted values:\n",
            "[0 1 0 0 0 0 2 0 0 0 0 2 1 0 1 0 3 0 0 0 0 0 0 0 0 0 0 0 0 3 1 0 0 0 1 0 3\n",
            " 0 0 0 0 0 0 0 0 0 0 1 1 3 0 0 0 0 2 0 4 0 0 0 1]\n",
            "True values:\n",
            "69     1\n",
            "300    3\n",
            "220    0\n",
            "134    0\n",
            "7      0\n",
            "      ..\n",
            "1      2\n",
            "23     3\n",
            "56     1\n",
            "75     0\n",
            "252    0\n",
            "Name: num, Length: 61, dtype: int64\n"
          ]
        }
      ]
    },
    {
      "cell_type": "code",
      "source": [
        "print(\"Fitur pelatihan (X_train):\")\n",
        "print(X_train.head())\n",
        "print(\"Label pelatihan (y_train):\")\n",
        "print(y_train.head())\n",
        "print(\"Fitur pengujian (X_test):\")\n",
        "print(X_test.head())\n",
        "print(\"Label pengujian (y_test):\")\n",
        "print(y_test.head())"
      ],
      "metadata": {
        "colab": {
          "base_uri": "https://localhost:8080/"
        },
        "id": "r-1url42o9P_",
        "outputId": "540b5af6-2f56-44cd-b861-d41d8b3bcee9",
        "collapsed": true
      },
      "execution_count": null,
      "outputs": [
        {
          "output_type": "stream",
          "name": "stdout",
          "text": [
            "Fitur pelatihan (X_train):\n",
            "          age  sex        cp  trestbps      chol  fbs  restecg   thalach  \\\n",
            "184  0.645833  0.0  1.000000  0.603774  0.408676  0.0      1.0  0.687023   \n",
            "19   0.416667  1.0  0.333333  0.339623  0.319635  0.0      0.0  0.763359   \n",
            "118  0.708333  1.0  1.000000  0.339623  0.465753  1.0      1.0  0.465649   \n",
            "41   0.229167  1.0  0.000000  0.433962  0.166667  0.0      0.0  0.816794   \n",
            "59   0.458333  1.0  0.000000  0.292453  0.198630  0.0      1.0  0.412214   \n",
            "\n",
            "     exang   oldpeak  slope        ca  thal  \n",
            "184    0.0  0.000000    0.0  0.000000   0.0  \n",
            "19     0.0  0.096774    0.0  0.000000   0.0  \n",
            "118    1.0  0.290323    0.0  1.000000   1.0  \n",
            "41     1.0  0.225806    0.0  0.000000   1.0  \n",
            "59     1.0  0.225806    0.0  0.333333   0.0  \n",
            "Label pelatihan (y_train):\n",
            "184    1\n",
            "19     0\n",
            "118    3\n",
            "41     0\n",
            "59     0\n",
            "Name: num, dtype: int64\n",
            "Fitur pengujian (X_test):\n",
            "          age  sex        cp  trestbps      chol  fbs  restecg   thalach  \\\n",
            "69   0.354167  1.0  0.666667  0.528302  0.239726  0.0      0.0  0.580153   \n",
            "300  0.583333  1.0  1.000000  0.339623  0.011416  0.0      0.0  0.335878   \n",
            "220  0.250000  0.0  0.666667  0.169811  0.324201  0.0      1.0  0.770992   \n",
            "134  0.291667  0.0  0.666667  0.264151  0.198630  0.0      0.0  0.717557   \n",
            "7    0.583333  0.0  1.000000  0.245283  0.520548  0.0      0.0  0.702290   \n",
            "\n",
            "     exang   oldpeak  slope        ca  thal  \n",
            "69     0.0  0.580645    0.5  0.000000   0.0  \n",
            "300    1.0  0.193548    0.5  0.333333   1.0  \n",
            "220    1.0  0.000000    0.0  0.000000   0.0  \n",
            "134    0.0  0.032258    0.5  0.000000   0.0  \n",
            "7      1.0  0.096774    0.0  0.000000   0.0  \n",
            "Label pengujian (y_test):\n",
            "69     1\n",
            "300    3\n",
            "220    0\n",
            "134    0\n",
            "7      0\n",
            "Name: num, dtype: int64\n"
          ]
        }
      ]
    },
    {
      "cell_type": "code",
      "source": [
        "!pip install tensorflow\n",
        "import tensorflow as tf\n",
        "print(tf.__version__)\n",
        "from tensorflow.keras.models import Sequential\n",
        "from tensorflow.keras.layers import Conv2D, MaxPooling2D, Flatten, Dense\n",
        "from tensorflow.keras.utils import to_categorical\n",
        "\n",
        "# Dummy example of loading data (replace with your actual data loading/preprocessing)\n",
        "from tensorflow.keras.datasets import mnist\n",
        "(X_train, y_train), (X_test, y_test) = mnist.load_data()\n",
        "\n",
        "# Normalize and reshape data for CNN\n",
        "X_train = X_train.reshape(-1, 28, 28, 1) / 255.0\n",
        "X_test = X_test.reshape(-1, 28, 28, 1) / 255.0\n",
        "y_train = to_categorical(y_train)\n",
        "y_test = to_categorical(y_test)\n",
        "\n",
        "# Define CNN model\n",
        "model = Sequential([\n",
        "    Conv2D(32, kernel_size=(3, 3), activation='relu', input_shape=(28, 28, 1)),\n",
        "    MaxPooling2D(pool_size=(2, 2)),\n",
        "    Conv2D(64, kernel_size=(3, 3), activation='relu'),\n",
        "    MaxPooling2D(pool_size=(2, 2)),\n",
        "    Flatten(),\n",
        "    Dense(128, activation='relu'),\n",
        "    Dense(10, activation='softmax')  # Output layer with 10 classes for MNIST\n",
        "])\n",
        "\n",
        "# Compile the model\n",
        "model.compile(optimizer='adam', loss='categorical_crossentropy', metrics=['accuracy'])\n",
        "\n",
        "# Train the model\n",
        "model.fit(X_train, y_train, epochs=10, batch_size=32, validation_data=(X_test, y_test))\n",
        "\n",
        "# Evaluate the model\n",
        "loss, accuracy = model.evaluate(X_test, y_test)\n",
        "print(f\"Test Accuracy: {accuracy:.4f}\")\n"
      ],
      "metadata": {
        "colab": {
          "base_uri": "https://localhost:8080/"
        },
        "collapsed": true,
        "id": "yBt5WjuIB6R0",
        "outputId": "f82f33fd-293f-4832-a25c-ced2c11391cf"
      },
      "execution_count": 34,
      "outputs": [
        {
          "output_type": "stream",
          "name": "stdout",
          "text": [
            "Requirement already satisfied: tensorflow in /usr/local/lib/python3.10/dist-packages (2.15.0)\n",
            "Requirement already satisfied: absl-py>=1.0.0 in /usr/local/lib/python3.10/dist-packages (from tensorflow) (1.4.0)\n",
            "Requirement already satisfied: astunparse>=1.6.0 in /usr/local/lib/python3.10/dist-packages (from tensorflow) (1.6.3)\n",
            "Requirement already satisfied: flatbuffers>=23.5.26 in /usr/local/lib/python3.10/dist-packages (from tensorflow) (24.3.25)\n",
            "Requirement already satisfied: gast!=0.5.0,!=0.5.1,!=0.5.2,>=0.2.1 in /usr/local/lib/python3.10/dist-packages (from tensorflow) (0.5.4)\n",
            "Requirement already satisfied: google-pasta>=0.1.1 in /usr/local/lib/python3.10/dist-packages (from tensorflow) (0.2.0)\n",
            "Requirement already satisfied: h5py>=2.9.0 in /usr/local/lib/python3.10/dist-packages (from tensorflow) (3.9.0)\n",
            "Requirement already satisfied: libclang>=13.0.0 in /usr/local/lib/python3.10/dist-packages (from tensorflow) (18.1.1)\n",
            "Requirement already satisfied: ml-dtypes~=0.2.0 in /usr/local/lib/python3.10/dist-packages (from tensorflow) (0.2.0)\n",
            "Requirement already satisfied: numpy<2.0.0,>=1.23.5 in /usr/local/lib/python3.10/dist-packages (from tensorflow) (1.25.2)\n",
            "Requirement already satisfied: opt-einsum>=2.3.2 in /usr/local/lib/python3.10/dist-packages (from tensorflow) (3.3.0)\n",
            "Requirement already satisfied: packaging in /usr/local/lib/python3.10/dist-packages (from tensorflow) (24.1)\n",
            "Requirement already satisfied: protobuf!=4.21.0,!=4.21.1,!=4.21.2,!=4.21.3,!=4.21.4,!=4.21.5,<5.0.0dev,>=3.20.3 in /usr/local/lib/python3.10/dist-packages (from tensorflow) (3.20.3)\n",
            "Requirement already satisfied: setuptools in /usr/local/lib/python3.10/dist-packages (from tensorflow) (67.7.2)\n",
            "Requirement already satisfied: six>=1.12.0 in /usr/local/lib/python3.10/dist-packages (from tensorflow) (1.16.0)\n",
            "Requirement already satisfied: termcolor>=1.1.0 in /usr/local/lib/python3.10/dist-packages (from tensorflow) (2.4.0)\n",
            "Requirement already satisfied: typing-extensions>=3.6.6 in /usr/local/lib/python3.10/dist-packages (from tensorflow) (4.12.2)\n",
            "Requirement already satisfied: wrapt<1.15,>=1.11.0 in /usr/local/lib/python3.10/dist-packages (from tensorflow) (1.14.1)\n",
            "Requirement already satisfied: tensorflow-io-gcs-filesystem>=0.23.1 in /usr/local/lib/python3.10/dist-packages (from tensorflow) (0.37.0)\n",
            "Requirement already satisfied: grpcio<2.0,>=1.24.3 in /usr/local/lib/python3.10/dist-packages (from tensorflow) (1.64.1)\n",
            "Requirement already satisfied: tensorboard<2.16,>=2.15 in /usr/local/lib/python3.10/dist-packages (from tensorflow) (2.15.2)\n",
            "Requirement already satisfied: tensorflow-estimator<2.16,>=2.15.0 in /usr/local/lib/python3.10/dist-packages (from tensorflow) (2.15.0)\n",
            "Requirement already satisfied: keras<2.16,>=2.15.0 in /usr/local/lib/python3.10/dist-packages (from tensorflow) (2.15.0)\n",
            "Requirement already satisfied: wheel<1.0,>=0.23.0 in /usr/local/lib/python3.10/dist-packages (from astunparse>=1.6.0->tensorflow) (0.43.0)\n",
            "Requirement already satisfied: google-auth<3,>=1.6.3 in /usr/local/lib/python3.10/dist-packages (from tensorboard<2.16,>=2.15->tensorflow) (2.27.0)\n",
            "Requirement already satisfied: google-auth-oauthlib<2,>=0.5 in /usr/local/lib/python3.10/dist-packages (from tensorboard<2.16,>=2.15->tensorflow) (1.2.0)\n",
            "Requirement already satisfied: markdown>=2.6.8 in /usr/local/lib/python3.10/dist-packages (from tensorboard<2.16,>=2.15->tensorflow) (3.6)\n",
            "Requirement already satisfied: requests<3,>=2.21.0 in /usr/local/lib/python3.10/dist-packages (from tensorboard<2.16,>=2.15->tensorflow) (2.31.0)\n",
            "Requirement already satisfied: tensorboard-data-server<0.8.0,>=0.7.0 in /usr/local/lib/python3.10/dist-packages (from tensorboard<2.16,>=2.15->tensorflow) (0.7.2)\n",
            "Requirement already satisfied: werkzeug>=1.0.1 in /usr/local/lib/python3.10/dist-packages (from tensorboard<2.16,>=2.15->tensorflow) (3.0.3)\n",
            "Requirement already satisfied: cachetools<6.0,>=2.0.0 in /usr/local/lib/python3.10/dist-packages (from google-auth<3,>=1.6.3->tensorboard<2.16,>=2.15->tensorflow) (5.3.3)\n",
            "Requirement already satisfied: pyasn1-modules>=0.2.1 in /usr/local/lib/python3.10/dist-packages (from google-auth<3,>=1.6.3->tensorboard<2.16,>=2.15->tensorflow) (0.4.0)\n",
            "Requirement already satisfied: rsa<5,>=3.1.4 in /usr/local/lib/python3.10/dist-packages (from google-auth<3,>=1.6.3->tensorboard<2.16,>=2.15->tensorflow) (4.9)\n",
            "Requirement already satisfied: requests-oauthlib>=0.7.0 in /usr/local/lib/python3.10/dist-packages (from google-auth-oauthlib<2,>=0.5->tensorboard<2.16,>=2.15->tensorflow) (1.3.1)\n",
            "Requirement already satisfied: charset-normalizer<4,>=2 in /usr/local/lib/python3.10/dist-packages (from requests<3,>=2.21.0->tensorboard<2.16,>=2.15->tensorflow) (3.3.2)\n",
            "Requirement already satisfied: idna<4,>=2.5 in /usr/local/lib/python3.10/dist-packages (from requests<3,>=2.21.0->tensorboard<2.16,>=2.15->tensorflow) (3.7)\n",
            "Requirement already satisfied: urllib3<3,>=1.21.1 in /usr/local/lib/python3.10/dist-packages (from requests<3,>=2.21.0->tensorboard<2.16,>=2.15->tensorflow) (2.0.7)\n",
            "Requirement already satisfied: certifi>=2017.4.17 in /usr/local/lib/python3.10/dist-packages (from requests<3,>=2.21.0->tensorboard<2.16,>=2.15->tensorflow) (2024.6.2)\n",
            "Requirement already satisfied: MarkupSafe>=2.1.1 in /usr/local/lib/python3.10/dist-packages (from werkzeug>=1.0.1->tensorboard<2.16,>=2.15->tensorflow) (2.1.5)\n",
            "Requirement already satisfied: pyasn1<0.7.0,>=0.4.6 in /usr/local/lib/python3.10/dist-packages (from pyasn1-modules>=0.2.1->google-auth<3,>=1.6.3->tensorboard<2.16,>=2.15->tensorflow) (0.6.0)\n",
            "Requirement already satisfied: oauthlib>=3.0.0 in /usr/local/lib/python3.10/dist-packages (from requests-oauthlib>=0.7.0->google-auth-oauthlib<2,>=0.5->tensorboard<2.16,>=2.15->tensorflow) (3.2.2)\n",
            "2.15.0\n",
            "Epoch 1/10\n",
            "1875/1875 [==============================] - 57s 30ms/step - loss: 0.1244 - accuracy: 0.9614 - val_loss: 0.0441 - val_accuracy: 0.9854\n",
            "Epoch 2/10\n",
            "1875/1875 [==============================] - 53s 28ms/step - loss: 0.0415 - accuracy: 0.9871 - val_loss: 0.0285 - val_accuracy: 0.9902\n",
            "Epoch 3/10\n",
            "1875/1875 [==============================] - 57s 30ms/step - loss: 0.0268 - accuracy: 0.9919 - val_loss: 0.0317 - val_accuracy: 0.9897\n",
            "Epoch 4/10\n",
            "1875/1875 [==============================] - 53s 28ms/step - loss: 0.0213 - accuracy: 0.9930 - val_loss: 0.0272 - val_accuracy: 0.9915\n",
            "Epoch 5/10\n",
            "1875/1875 [==============================] - 52s 28ms/step - loss: 0.0147 - accuracy: 0.9953 - val_loss: 0.0271 - val_accuracy: 0.9915\n",
            "Epoch 6/10\n",
            "1875/1875 [==============================] - 53s 28ms/step - loss: 0.0123 - accuracy: 0.9959 - val_loss: 0.0432 - val_accuracy: 0.9872\n",
            "Epoch 7/10\n",
            "1875/1875 [==============================] - 57s 30ms/step - loss: 0.0101 - accuracy: 0.9967 - val_loss: 0.0287 - val_accuracy: 0.9911\n",
            "Epoch 8/10\n",
            "1875/1875 [==============================] - 53s 28ms/step - loss: 0.0073 - accuracy: 0.9973 - val_loss: 0.0301 - val_accuracy: 0.9924\n",
            "Epoch 9/10\n",
            "1875/1875 [==============================] - 51s 27ms/step - loss: 0.0073 - accuracy: 0.9975 - val_loss: 0.0383 - val_accuracy: 0.9897\n",
            "Epoch 10/10\n",
            "1875/1875 [==============================] - 51s 27ms/step - loss: 0.0063 - accuracy: 0.9979 - val_loss: 0.0331 - val_accuracy: 0.9923\n",
            "313/313 [==============================] - 3s 9ms/step - loss: 0.0331 - accuracy: 0.9923\n",
            "Test Accuracy: 0.9923\n"
          ]
        }
      ]
    }
  ]
}